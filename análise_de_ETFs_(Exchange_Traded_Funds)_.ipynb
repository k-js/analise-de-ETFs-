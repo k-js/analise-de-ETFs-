{
  "cells": [
    {
      "cell_type": "markdown",
      "metadata": {
        "id": "view-in-github",
        "colab_type": "text"
      },
      "source": [
        "<a href=\"https://colab.research.google.com/github/k-js/analise-de-ETFs-/blob/main/an%C3%A1lise_de_ETFs_(Exchange_Traded_Funds)_.ipynb\" target=\"_parent\"><img src=\"https://colab.research.google.com/assets/colab-badge.svg\" alt=\"Open In Colab\"/></a>"
      ]
    },
    {
      "cell_type": "markdown",
      "id": "46876da9-1c33-47a3-ac05-53f99b070925",
      "metadata": {
        "id": "46876da9-1c33-47a3-ac05-53f99b070925"
      },
      "source": [
        "<h1> Python para Finanças </h1>\n",
        "\n",
        "<h2> Lista de Exercícios 3 </h2>\n",
        "\n",
        "\n",
        "**Os exercícios devem ser feitos em python, podendo ser feito em Excel apenas para conferência dos resultados obtidos.**\n",
        "\n",
        "**A lista deve ser entregue até às 23:59 do dia 21/05/2025, horário de Brasília.**\n",
        "\n",
        "Para entrega, o aluno deve entregar o arquivo jupyter (.ipynb) fornecido pelo professor devidamente preenchido com as respostas das questões. A entrega deve ser feita para o e-mail do professor (jorge.antunes@pep.ufrj.br) e do coordenador do curso (rafael.cardoso@chcfinance.com.br).\n",
        "\n",
        "Cada questão tem sua pontuação no enunciado e a lista soma 10 pontos no total. Se atente que algumas questões são encadeadas, o que significa que o resultado de uma questão afeta a seguinte, dessa forma, procure ter certeza de que o resultado está realmente correto para sua nota não ser prejudicada por um erro no começo.\n",
        "\n",
        "Boa sorte!\n",
        "\n"
      ]
    },
    {
      "cell_type": "markdown",
      "id": "38378ece-70c4-4b88-a561-c9bbdfab5495",
      "metadata": {
        "id": "38378ece-70c4-4b88-a561-c9bbdfab5495"
      },
      "source": [
        "<h4>Preparação dos pacotes e diretórios</h4>"
      ]
    },
    {
      "cell_type": "code",
      "execution_count": null,
      "id": "266913d3-1bcd-444e-9a2d-7ad21a66bc37",
      "metadata": {
        "id": "266913d3-1bcd-444e-9a2d-7ad21a66bc37"
      },
      "outputs": [],
      "source": [
        "## Importar as bibliotecas necessárias"
      ]
    },
    {
      "cell_type": "code",
      "source": [
        "from google.colab import files\n",
        "import pandas as pd\n",
        "import yfinance as yf\n",
        "import numpy as np\n",
        "from sklearn.linear_model import LinearRegression"
      ],
      "metadata": {
        "id": "YzBkKfS8sTy_"
      },
      "id": "YzBkKfS8sTy_",
      "execution_count": null,
      "outputs": []
    },
    {
      "cell_type": "markdown",
      "id": "d2deecac-f3a0-4fd7-8f87-d50021ed9258",
      "metadata": {
        "id": "d2deecac-f3a0-4fd7-8f87-d50021ed9258"
      },
      "source": [
        "<h3>Questão 1</h3>\n",
        "<h4>Pontuação: 2 pts</h4>\n",
        "\n",
        "Você foi alocado na equipe de análise de ETFs (Exchange Traded Funds) do banco onde trabalha. Atualmente, os processos são realizados de forma manual em Excel, exigindo o esforço repetitivo de colaboradores para coletar informações diretamente dos sites de mercado.\n",
        "\n",
        "Para melhorar a eficiência, desenvolva um programa em Python com as seguintes funcionalidades:\n",
        "1) Leia uma lista de ETFs atualizada da B3 (busque no site da B3 este arquivo e faça seu download, o código não precisa baixar o arquivo, apenas ler ele).\n",
        "2) Utilize uma API adequada para baixar os preços de fechamento desses ETFs de forma automática.\n",
        "3) Utilize uma API adequada para baixar os preços do índice Bovespa (Benchmark)\n",
        "4) Utilize uma API adequada para baixar os preços do CDI (Risk Free).\n",
        "\n",
        "Considere como data inicial 2024-01-01 e como data final 2025-04-30.\n",
        "\n",
        "Os dados dos ETFs devem ser dispostos como DataFrame e devem conter apenas ETFs com dados completos neste período.\n",
        "\n",
        "Deixe todas as datas no formato YYYY-MM-DD."
      ]
    },
    {
      "cell_type": "code",
      "source": [
        "# Caminho para o arquivo CSV da B3 com ETFs (você deve colocar o caminho correto)\n",
        "file_path = \"/content/fundosListados.csv\"\n",
        "# Carregando o arquivo CSV\n",
        "df_etfs = pd.read_csv(file_path, sep = \";\", encoding = \"latin1\", header = 0, index_col = False)\n",
        "print(df_etfs.head())\n",
        "\n",
        "# Gerando os tickers\n",
        "tickers = df_etfs[\"Código\"].dropna().astype(str).str.strip().str.upper().add(\"11.SA\").tolist()\n",
        "\n",
        "print(f\"\\n✅ Total de Tickers encontrados: {len(tickers)}\")\n",
        "\n",
        "# Criando um novo DataFrame com os tickers\n",
        "df_tickers = pd.DataFrame({\"Tickers\": tickers})\n",
        "\n",
        "# Exibindo o novo DataFrame\n",
        "print(df_tickers.head())"
      ],
      "metadata": {
        "colab": {
          "base_uri": "https://localhost:8080/"
        },
        "id": "UHhrCnfbH2An",
        "outputId": "153d47aa-62d4-4e43-a0e9-b88bf94e281a"
      },
      "id": "UHhrCnfbH2An",
      "execution_count": null,
      "outputs": [
        {
          "output_type": "stream",
          "name": "stdout",
          "text": [
            "                                        Razão Social         Fundo Código\n",
            "0                BB ETF IAGRO-FFS B3 FUNDO DE ÍNDICE  BB ETF IAGRO   AGRI\n",
            "1                    BB ETF IBOVESPA FUNDO DE INDICE   BB ETF IBOV   BBOV\n",
            "2  BB ETF ÍNDICE BOVESPA B3 BR+ FUNDO DE ÍNDICE R...   BB ETF BRAZ   BRAZ\n",
            "3  BB ETF ÍNDICE DIVERSIDADE B3 INVESTIMENTO SUST...   BB ETF DVER   DVER\n",
            "4  BB ETF ÍNDICE FUTURO DE BOI GORDO B3 FUNDO DE ...  BB ETF BOI G   BBOI\n",
            "\n",
            "✅ Total de Tickers encontrados: 86\n",
            "     Tickers\n",
            "0  AGRI11.SA\n",
            "1  BBOV11.SA\n",
            "2  BRAZ11.SA\n",
            "3  DVER11.SA\n",
            "4  BBOI11.SA\n"
          ]
        }
      ]
    },
    {
      "cell_type": "code",
      "source": [
        "tickers_validos = []\n",
        "tickers_sem_preco = []\n",
        "tickers_invalidos = []\n",
        "\n",
        "for ticker in tickers:\n",
        "    try:\n",
        "        data = yf.Ticker(ticker)\n",
        "        # Verifica se há preço de mercado regular disponível\n",
        "        if data.info.get('regularMarketPrice') is not None:\n",
        "            #print(f\"{ticker} é válido.\")\n",
        "            tickers_validos.append(ticker)\n",
        "        else:\n",
        "            #print(f\"{ticker} não possui preço de mercado.\")\n",
        "            tickers_sem_preco.append(ticker)\n",
        "    except Exception as e:\n",
        "        print(f\"Erro ao buscar {ticker}: {e}\")\n",
        "        tickers_invalidos.append(ticker)\n",
        "\n",
        "print(\"\\n=== RESUMO ===\")\n",
        "print(f\"Total de tickers testados: {len(tickers)}\")\n",
        "print(f\"Tickers válidos: {len(tickers_validos)}\")\n",
        "print(f\"Tickers sem preço de mercado: {len(tickers_sem_preco)}\")\n",
        "print(f\"Tickers inválidos: {len(tickers_invalidos)}\")\n",
        "\n",
        "# salvar as listas em arquivo para análise futura:\n",
        "with open(\"tickers_validos.txt\", \"w\") as f_val:\n",
        "    for t in tickers_validos:\n",
        "        f_val.write(t + \"\\n\")\n",
        "\n",
        "with open(\"tickers_invalidos.txt\", \"w\") as f_inv:\n",
        "    for t in tickers_invalidos:\n",
        "        f_inv.write(t + \"\\n\")\n",
        "\n",
        "# Intervalo de datas\n",
        "data_inicial = \"2024-01-01\"\n",
        "data_final = \"2025-04-30\"\n",
        "\n",
        "# Lista para armazenar os DataFrames de cada ETF\n",
        "dfs = []\n",
        "\n",
        "# Loop para buscar os dados de cada ETF\n",
        "for ticker in tickers_validos:\n",
        "    try:\n",
        "        # Criando o objeto Ticker\n",
        "        data = yf.Ticker(ticker)\n",
        "\n",
        "        # Obtendo os dados históricos no intervalo de datas\n",
        "        # Allow for potential incomplete data ranges\n",
        "        historico = data.history(start=data_inicial, end=data_final)\n",
        "\n",
        "        # Verificando se há dados disponíveis\n",
        "        if len(historico) > 0: # Check if there is any data\n",
        "            # Adicionando o ticker como uma coluna no DataFrame\n",
        "            historico['Ticker'] = ticker\n",
        "\n",
        "            # Adicionando ao conjunto de DataFrames\n",
        "            dfs.append(historico[['Ticker', 'Close']])\n",
        "        else:\n",
        "            # Opcional: Imprimir uma mensagem se não houver dados para o ticker no intervalo\n",
        "            print(f\"Nenhum dado histórico encontrado para o ticker {ticker} no intervalo especificado.\")\n",
        "\n",
        "    except Exception as e:\n",
        "        print(f\"Erro ao buscar dados para o ticker {ticker}: {e}\")\n",
        "\n",
        "\n",
        "if len(dfs) > 0:\n",
        "    # Concatenando todos os DataFrames em um único DataFrame\n",
        "    df_final = pd.concat(dfs)\n",
        "\n",
        "    # Formatando o índice de datas para o formato YYYY-MM-DD\n",
        "    df_final.index = df_final.index.strftime('%Y-%m-%d')\n",
        "\n",
        "    # Resetando o índice para exibir as datas como uma coluna\n",
        "    df_final.reset_index(inplace=True)\n",
        "    df_final.rename(columns={\"index\": \"Date\"}, inplace=True)\n",
        "\n",
        "    # Exibindo o DataFrame final\n",
        "    print(df_final)\n",
        "else:\n",
        "    print(\"Nenhum DataFrame foi coletado. df_final está vazio.\")\n"
      ],
      "metadata": {
        "colab": {
          "base_uri": "https://localhost:8080/"
        },
        "id": "0UhUXz_TIAUq",
        "outputId": "9113378b-7e13-42ff-ddd4-4052061bc37b"
      },
      "id": "0UhUXz_TIAUq",
      "execution_count": null,
      "outputs": [
        {
          "output_type": "stream",
          "name": "stdout",
          "text": [
            "Erro ao buscar CASA11.SA: HTTP Error 404: \n",
            "Erro ao buscar GPUS11.SA: HTTP Error 404: \n"
          ]
        },
        {
          "output_type": "stream",
          "name": "stderr",
          "text": [
            "ERROR:yfinance:$BRAZ11.SA: possibly delisted; no price data found  (1d 2024-01-01 -> 2025-04-30)\n"
          ]
        },
        {
          "output_type": "stream",
          "name": "stdout",
          "text": [
            "\n",
            "=== RESUMO ===\n",
            "Total de tickers testados: 86\n",
            "Tickers válidos: 82\n",
            "Tickers sem preço de mercado: 2\n",
            "Tickers inválidos: 2\n",
            "Nenhum dado histórico encontrado para o ticker BRAZ11.SA no intervalo especificado.\n"
          ]
        },
        {
          "output_type": "stream",
          "name": "stderr",
          "text": [
            "ERROR:yfinance:$DOLA11.SA: possibly delisted; no price data found  (1d 2024-01-01 -> 2025-04-30) (Yahoo error = \"Data doesn't exist for startDate = 1704078000, endDate = 1745982000\")\n",
            "ERROR:yfinance:$TECX11.SA: possibly delisted; no price data found  (1d 2024-01-01 -> 2025-04-30)\n",
            "ERROR:yfinance:$PKIN11.SA: possibly delisted; no price data found  (1d 2024-01-01 -> 2025-04-30)\n"
          ]
        },
        {
          "output_type": "stream",
          "name": "stdout",
          "text": [
            "Nenhum dado histórico encontrado para o ticker DOLA11.SA no intervalo especificado.\n",
            "Nenhum dado histórico encontrado para o ticker TECX11.SA no intervalo especificado.\n",
            "Nenhum dado histórico encontrado para o ticker PKIN11.SA no intervalo especificado.\n"
          ]
        },
        {
          "output_type": "stream",
          "name": "stderr",
          "text": [
            "ERROR:yfinance:$NUCL11.SA: possibly delisted; no price data found  (1d 2024-01-01 -> 2025-04-30) (Yahoo error = \"Data doesn't exist for startDate = 1704078000, endDate = 1745982000\")\n",
            "ERROR:yfinance:$BIZD11.SA: possibly delisted; no price data found  (1d 2024-01-01 -> 2025-04-30) (Yahoo error = \"Data doesn't exist for startDate = 1704078000, endDate = 1745982000\")\n"
          ]
        },
        {
          "output_type": "stream",
          "name": "stdout",
          "text": [
            "Nenhum dado histórico encontrado para o ticker NUCL11.SA no intervalo especificado.\n",
            "Nenhum dado histórico encontrado para o ticker BIZD11.SA no intervalo especificado.\n"
          ]
        },
        {
          "output_type": "stream",
          "name": "stderr",
          "text": [
            "ERROR:yfinance:$B3BR11.SA: possibly delisted; no price data found  (1d 2024-01-01 -> 2025-04-30)\n"
          ]
        },
        {
          "output_type": "stream",
          "name": "stdout",
          "text": [
            "Nenhum dado histórico encontrado para o ticker B3BR11.SA no intervalo especificado.\n"
          ]
        },
        {
          "output_type": "stream",
          "name": "stderr",
          "text": [
            "ERROR:yfinance:$SPXR11.SA: possibly delisted; no price data found  (1d 2024-01-01 -> 2025-04-30)\n"
          ]
        },
        {
          "output_type": "stream",
          "name": "stdout",
          "text": [
            "Nenhum dado histórico encontrado para o ticker SPXR11.SA no intervalo especificado.\n"
          ]
        },
        {
          "output_type": "stream",
          "name": "stderr",
          "text": [
            "ERROR:yfinance:$HIGH11.SA: possibly delisted; no price data found  (1d 2024-01-01 -> 2025-04-30)\n",
            "ERROR:yfinance:$LVOL11.SA: possibly delisted; no price data found  (1d 2024-01-01 -> 2025-04-30)\n",
            "ERROR:yfinance:$SPUB11.SA: possibly delisted; no price data found  (1d 2024-01-01 -> 2025-04-30)\n"
          ]
        },
        {
          "output_type": "stream",
          "name": "stdout",
          "text": [
            "Nenhum dado histórico encontrado para o ticker HIGH11.SA no intervalo especificado.\n",
            "Nenhum dado histórico encontrado para o ticker LVOL11.SA no intervalo especificado.\n",
            "Nenhum dado histórico encontrado para o ticker SPUB11.SA no intervalo especificado.\n"
          ]
        },
        {
          "output_type": "stream",
          "name": "stderr",
          "text": [
            "ERROR:yfinance:$SPVT11.SA: possibly delisted; no price data found  (1d 2024-01-01 -> 2025-04-30)\n"
          ]
        },
        {
          "output_type": "stream",
          "name": "stdout",
          "text": [
            "Nenhum dado histórico encontrado para o ticker SPVT11.SA no intervalo especificado.\n",
            "             Date     Ticker      Close\n",
            "0      2024-01-02  AGRI11.SA  50.700001\n",
            "1      2024-01-03  AGRI11.SA  50.660000\n",
            "2      2024-01-04  AGRI11.SA  49.889999\n",
            "3      2024-01-05  AGRI11.SA  50.340000\n",
            "4      2024-01-08  AGRI11.SA  50.980000\n",
            "...           ...        ...        ...\n",
            "20586  2025-04-23  NASD11.SA  14.890000\n",
            "20587  2025-04-24  NASD11.SA  15.230000\n",
            "20588  2025-04-25  NASD11.SA  15.390000\n",
            "20589  2025-04-28  NASD11.SA  15.270000\n",
            "20590  2025-04-29  NASD11.SA  15.350000\n",
            "\n",
            "[20591 rows x 3 columns]\n"
          ]
        }
      ]
    },
    {
      "cell_type": "code",
      "source": [
        "## Leitura do benchmark\n",
        "\n",
        "# Define o benchmark (índice Bovespa)\n",
        "benchmark = \"^BVSP\"\n",
        "\n",
        "# Cria a lista total de tickers incluindo o benchmark\n",
        "todos_tickers = tickers + [benchmark]\n",
        "\n",
        "# Baixar os dados de fechamento\n",
        "dados = yf.download(todos_tickers, start=data_inicial, end=data_final)[\"Close\"]\n",
        "\n",
        "# Separar benchmark\n",
        "dados_benchmark = dados[benchmark]\n",
        "\n",
        "# Remover benchmark dos ETFs\n",
        "dados_etfs = dados.drop(columns=[benchmark])\n",
        "\n",
        "print(f\"Benchmark (Bovespa):\\n{dados_benchmark.head()}\")"
      ],
      "metadata": {
        "colab": {
          "base_uri": "https://localhost:8080/"
        },
        "id": "og3d7BCEIS4S",
        "outputId": "83272ab1-bc44-4907-f6d4-e5fd3bd85786"
      },
      "id": "og3d7BCEIS4S",
      "execution_count": null,
      "outputs": [
        {
          "output_type": "stream",
          "name": "stderr",
          "text": [
            "[*********************100%***********************]  87 of 87 completed\n",
            "ERROR:yfinance:\n",
            "16 Failed downloads:\n",
            "ERROR:yfinance:['SPUB11.SA', 'SPVT11.SA', 'HIGH11.SA', 'BRAZ11.SA', 'PKIN11.SA', 'TECX11.SA', 'B3BR11.SA', 'SPXR11.SA', 'LVOL11.SA']: YFPricesMissingError('possibly delisted; no price data found  (1d 2024-01-01 -> 2025-04-30)')\n",
            "ERROR:yfinance:['BIZD11.SA', 'DOLA11.SA', 'NUCL11.SA']: YFPricesMissingError('possibly delisted; no price data found  (1d 2024-01-01 -> 2025-04-30) (Yahoo error = \"Data doesn\\'t exist for startDate = 1704078000, endDate = 1745982000\")')\n",
            "ERROR:yfinance:['GPUS11.SA', 'CASA11.SA', 'ESGU11.SA', 'URET11.SA']: YFTzMissingError('possibly delisted; no timezone found')\n"
          ]
        },
        {
          "output_type": "stream",
          "name": "stdout",
          "text": [
            "Benchmark (Bovespa):\n",
            "Date\n",
            "2024-01-02    132697.0\n",
            "2024-01-03    132834.0\n",
            "2024-01-04    131226.0\n",
            "2024-01-05    132023.0\n",
            "2024-01-08    132427.0\n",
            "Name: ^BVSP, dtype: float64\n"
          ]
        }
      ]
    },
    {
      "cell_type": "code",
      "source": [
        "## Leitura do CDI\n",
        "\n",
        "# Parâmetros\n",
        "ini, fim = \"01/01/2024\", \"30/04/2025\"\n",
        "formato = \"json\"\n",
        "serie = 12  # CDI\n",
        "\n",
        "url = (f\"https://api.bcb.gov.br/dados/serie/bcdata.sgs.{serie}/dados?\"\n",
        "       f\"formato={formato}&dataInicial={ini}&dataFinal={fim}\")\n",
        "\n",
        "cdi = (\n",
        "    pd.read_json(url)\n",
        "    .rename(columns = {\"data\": \"Date\",\"valor\": \"CDI\"})\n",
        "    .assign(Date = lambda x: pd.to_datetime(x[\"Date\"], format = \"%d/%m/%Y\"))\n",
        "    .set_index(\"Date\")\n",
        "    .reindex(dados.index)  # Changed from data_tickers.index to dados.index\n",
        ")\n",
        "\n",
        "# Import numpy for cumprod\n",
        "import numpy as np\n",
        "cdi[\"CDI\"] = np.cumprod(1 + cdi[\"CDI\"] / 100)\n",
        "print(f\"DataFrame CDI:\\n{cdi.head(10)}\\n\")\n",
        "\n",
        "# Limpeza: remover ETFs (colunas) com qualquer valor ausente\n",
        "dados_completos = dados.dropna(axis=1, how=\"any\")\n",
        "\n",
        "# Atualiza a versão de ETFs apenas com os que passaram na limpeza\n",
        "dados_etfs = dados_completos.drop(columns=[benchmark])\n",
        "\n",
        "# Verificação final antes de salvar\n",
        "if not dados_completos.empty and dados_etfs.shape[1] > 0:\n",
        "    output_file = \"dados_etfs_bvsp_limpo.xlsx\"\n",
        "    dados_completos.to_excel(output_file)\n",
        "    print(f\"✅ {dados_etfs.shape[1]} ETFs com dados completos salvos.\")\n",
        "    print(f\"📊 Total de colunas no Excel (inclui benchmark): {dados_completos.shape[1]}\")\n",
        "    # Import and use files.download\n",
        "    try:\n",
        "        from google.colab import files\n",
        "        files.download(output_file)\n",
        "    except ImportError:\n",
        "        print(\"Rodando fora do Google Colab, files.download não disponível.\")\n",
        "    print(f\"Arquivo salvo com apenas ETFs completos: {output_file}\", \"sucesso\")\n",
        "else:\n",
        "    print(\"❌ Nenhum ETF com dados completos disponível. Nada foi salvo.\", \"erro\")"
      ],
      "metadata": {
        "colab": {
          "base_uri": "https://localhost:8080/",
          "height": 312
        },
        "id": "qwhGV0RNI7qR",
        "outputId": "e615ff56-44dd-4cb6-e22a-527495592846"
      },
      "id": "qwhGV0RNI7qR",
      "execution_count": null,
      "outputs": [
        {
          "output_type": "stream",
          "name": "stdout",
          "text": [
            "DataFrame CDI:\n",
            "                 CDI\n",
            "Date                \n",
            "2024-01-02  1.000437\n",
            "2024-01-03  1.000875\n",
            "2024-01-04  1.001313\n",
            "2024-01-05  1.001751\n",
            "2024-01-08  1.002189\n",
            "2024-01-09  1.002627\n",
            "2024-01-10  1.003066\n",
            "2024-01-11  1.003504\n",
            "2024-01-12  1.003943\n",
            "2024-01-15  1.004383\n",
            "\n",
            "✅ 34 ETFs com dados completos salvos.\n",
            "📊 Total de colunas no Excel (inclui benchmark): 35\n"
          ]
        },
        {
          "output_type": "display_data",
          "data": {
            "text/plain": [
              "<IPython.core.display.Javascript object>"
            ],
            "application/javascript": [
              "\n",
              "    async function download(id, filename, size) {\n",
              "      if (!google.colab.kernel.accessAllowed) {\n",
              "        return;\n",
              "      }\n",
              "      const div = document.createElement('div');\n",
              "      const label = document.createElement('label');\n",
              "      label.textContent = `Downloading \"${filename}\": `;\n",
              "      div.appendChild(label);\n",
              "      const progress = document.createElement('progress');\n",
              "      progress.max = size;\n",
              "      div.appendChild(progress);\n",
              "      document.body.appendChild(div);\n",
              "\n",
              "      const buffers = [];\n",
              "      let downloaded = 0;\n",
              "\n",
              "      const channel = await google.colab.kernel.comms.open(id);\n",
              "      // Send a message to notify the kernel that we're ready.\n",
              "      channel.send({})\n",
              "\n",
              "      for await (const message of channel.messages) {\n",
              "        // Send a message to notify the kernel that we're ready.\n",
              "        channel.send({})\n",
              "        if (message.buffers) {\n",
              "          for (const buffer of message.buffers) {\n",
              "            buffers.push(buffer);\n",
              "            downloaded += buffer.byteLength;\n",
              "            progress.value = downloaded;\n",
              "          }\n",
              "        }\n",
              "      }\n",
              "      const blob = new Blob(buffers, {type: 'application/binary'});\n",
              "      const a = document.createElement('a');\n",
              "      a.href = window.URL.createObjectURL(blob);\n",
              "      a.download = filename;\n",
              "      div.appendChild(a);\n",
              "      a.click();\n",
              "      div.remove();\n",
              "    }\n",
              "  "
            ]
          },
          "metadata": {}
        },
        {
          "output_type": "display_data",
          "data": {
            "text/plain": [
              "<IPython.core.display.Javascript object>"
            ],
            "application/javascript": [
              "download(\"download_301831d3-5621-4711-85c9-db01f815d5db\", \"dados_etfs_bvsp_limpo.xlsx\", 83546)"
            ]
          },
          "metadata": {}
        },
        {
          "output_type": "stream",
          "name": "stdout",
          "text": [
            "Arquivo salvo com apenas ETFs completos: dados_etfs_bvsp_limpo.xlsx sucesso\n"
          ]
        }
      ]
    },
    {
      "cell_type": "markdown",
      "id": "1fc1b83b-186d-4e2d-aef6-ef50a4e9477f",
      "metadata": {
        "id": "1fc1b83b-186d-4e2d-aef6-ef50a4e9477f"
      },
      "source": [
        "<h3>Questão 2</h3>\n",
        "<h4>Pontuação: 3 pts</h4>\n",
        "\n",
        "Após o download, utilize os dados do período entre 01/01/2024 e 30/04/2025 para calcular o retorno simples de cada ETF, do índice Bovespa e do CDI.\n",
        "\n",
        "Antes de realizar o cálculo:\n",
        "\n",
        "1) Certifique-se de que os nomes dos índices (index) e das colunas (columns) estejam corretos e façam sentido.\n",
        "2) Verifique se as datas são coincidentes entre os três DataFrames. Caso contrário, realize os ajustes necessários.\n",
        "3) Ordene os dados por data.\n",
        "4) Verifique se os valores dos dados necessitam de transformação\n"
      ]
    },
    {
      "cell_type": "code",
      "source": [
        "# Calcular o retorno simples total para cada ativo/índice (preço final / preço inicial - 1)\n",
        "retorno_simples_total = (dados.iloc[-1] / dados.iloc[0]) - 1\n",
        "\n",
        "# Calcular o retorno simples do CDI (mesma lógica)\n",
        "retorno_cdi = (cdi[\"CDI\"].iloc[-1] / cdi[\"CDI\"].iloc[0]) - 1\n",
        "\n",
        "# Adicionar o CDI ao DataFrame de retornos\n",
        "retorno_simples_total[\"CDI\"] = retorno_cdi\n",
        "\n",
        "# Remover NaNs (caso existam)\n",
        "retorno_simples_total = retorno_simples_total.dropna()\n",
        "\n",
        "# Converter para porcentagem e formatar com 2 casas decimais\n",
        "retorno_simples_pct = (retorno_simples_total * 100).round(2)\n",
        "\n",
        "# Extrair só o prefixo do ticker\n",
        "def extrair_prefixo(ticker):\n",
        "    if \"11.SA\" in ticker:\n",
        "        return ticker.split(\"11.SA\")[0]\n",
        "    elif \".SA\" in ticker:\n",
        "        return ticker.split(\".SA\")[0]\n",
        "    else:\n",
        "        return ticker\n",
        "\n",
        "retorno_simples_pct.index = retorno_simples_pct.index.map(extrair_prefixo)\n",
        "retorno_simples_pct.rename(index={\"^BVSP\": \"IBOV\"}, inplace=True)\n",
        "\n",
        "# Mostrar o resultado\n",
        "print(f\"Retorno simples de cada ativo e índice ({data_inicial} a {data_final}):\")\n",
        "for ativo, retorno in retorno_simples_pct.items():\n",
        "    print(f\"{ativo}: {retorno:.2f}%\")\n"
      ],
      "metadata": {
        "colab": {
          "base_uri": "https://localhost:8080/"
        },
        "id": "6l7t68imyD5G",
        "outputId": "483f42e3-d32b-4eaf-932d-41073826b95f"
      },
      "id": "6l7t68imyD5G",
      "execution_count": null,
      "outputs": [
        {
          "output_type": "stream",
          "name": "stdout",
          "text": [
            "Retorno simples de cada ativo e índice (2024-01-01 a 2025-04-30):\n",
            "ACWI: 33.89%\n",
            "AGRI: -4.71%\n",
            "ALUG: 16.42%\n",
            "BBOV: 2.72%\n",
            "BBSD: 0.02%\n",
            "BOVA: 2.41%\n",
            "BOVB: 2.43%\n",
            "BOVS: 1.91%\n",
            "BOVV: 2.36%\n",
            "BOVX: 2.46%\n",
            "BRAX: 2.43%\n",
            "CHIP: 8.77%\n",
            "CMDB: -2.83%\n",
            "DIVO: 7.70%\n",
            "ECOO: 11.58%\n",
            "ELAS: 1.39%\n",
            "ESGB: -3.11%\n",
            "FIND: 9.37%\n",
            "GENB: 77.79%\n",
            "GLDX: 11.59%\n",
            "GOLD: 83.51%\n",
            "GOVE: 2.07%\n",
            "HTEK: -2.60%\n",
            "IBOB: 2.70%\n",
            "ISUS: -0.92%\n",
            "IVVB: 35.37%\n",
            "JOGO: 91.84%\n",
            "MATB: -16.67%\n",
            "MILL: 36.45%\n",
            "NASD: 35.48%\n",
            "PIBB: 3.43%\n",
            "REVE: 16.90%\n",
            "SCVB: -7.41%\n",
            "SMAB: -9.08%\n",
            "SMAC: -8.09%\n",
            "SMAL: -8.00%\n",
            "SPXB: 34.22%\n",
            "SPXI: 35.24%\n",
            "SVAL: 3.88%\n",
            "TECK: 66.00%\n",
            "TRIG: -1.27%\n",
            "USAL: 35.94%\n",
            "USTK: 32.63%\n",
            "UTEC: 33.43%\n",
            "WRLD: 31.86%\n",
            "XBOV: 1.79%\n",
            "XINA: 51.12%\n",
            "YDRO: -16.38%\n",
            "IBOV: 1.81%\n",
            "CDI: 15.18%\n"
          ]
        }
      ]
    },
    {
      "cell_type": "markdown",
      "id": "ffa0e94d-4e14-4c2a-aee5-c4dcc001ff6a",
      "metadata": {
        "id": "ffa0e94d-4e14-4c2a-aee5-c4dcc001ff6a"
      },
      "source": [
        "<h3>Questão 3</h3>\n",
        "<h4>Pontuação: 5 pts</h4>\n",
        "\n",
        "Agora que os dados de retornos dos ETFs, do CDI e do índice Bovespa (benchmark) foram baixados e devidamente tratados, desenvolva um código que compute as seguintes métricas de desempenho para cada ETF:\n",
        "\n",
        "1) Volatilidade\n",
        "2) Índice de Sharpe\n",
        "3) Indice de Sortino\n",
        "4) Value at Risk (VaR) histórico com 95% de confiança\n",
        "5) Beta\n",
        "6) Alfa\n",
        "\n",
        "O resultado deves ser apresentado em um data frame com as seguintes colunas:\n",
        "1) Nome do ativo\n",
        "2) Retorno médio do ativo\n",
        "3) Volatilidade\n",
        "4) Índice de Sharpe\n",
        "5) Indice de Sortino\n",
        "6) Value at Risk (VaR) histórico\n",
        "7) Beta\n",
        "8) Alfa\n",
        "\n",
        "<span style=\"color:red\">Imprima o resultado do DataFrame no console do notebook mostrando todas as linhas e colunas.</span> Depois, salve o DataFrame em um arquivo Excel.\n",
        "\n",
        "\n",
        "O Índice de Sortino é calculado pela fórmula:\n",
        "\n",
        "$$\n",
        "Sortino = \\frac{\\overline{r_{i} - r_{rf}}}{DR}\n",
        "$$\n",
        "\n",
        "Onde:\n",
        "\n",
        "${r_i}$ é o retorno do ativo,\n",
        "\n",
        "$r_{rf}$ é o retorno do ativo livre de risco (CDI),\n",
        "\n",
        "$DR$ é o downside deviation, dado por:\n",
        "\n",
        "$$DR = \\sqrt{\\frac{\\sum_{i=1}^{n}{\\min(r_i - r_{rf}, 0)^2}}{n-1}}$$\n",
        "\n"
      ]
    },
    {
      "cell_type": "code",
      "source": [
        "# === 1. Cálculo dos retornos diários simples ===\n",
        "retornos_etfs = dados_etfs.pct_change().dropna()\n",
        "retorno_benchmark = dados_benchmark.pct_change().dropna()\n",
        "retorno_cdi = cdi[\"CDI\"].pct_change().dropna()\n",
        "\n",
        "# === 2. Unificação e alinhamento dos dados ===\n",
        "df_completo = retornos_etfs.copy()\n",
        "df_completo[\"Benchmark\"] = retorno_benchmark\n",
        "df_completo[\"CDI\"] = retorno_cdi\n",
        "\n",
        "df_completo = df_completo.dropna()  # garante alinhamento temporal\n",
        "\n",
        "# === 3. Separar colunas de interesse ===\n",
        "col_etfs = retornos_etfs.columns.tolist()\n",
        "ret_bench = df_completo[\"Benchmark\"]\n",
        "ret_rf = df_completo[\"CDI\"]\n",
        "dados_etfs_alinhados = df_completo[col_etfs]\n",
        "\n",
        "# === 4. Funções estatísticas ===\n",
        "def sharpe(x, rf):\n",
        "    excesso = x - rf\n",
        "    desv = np.std(excesso, ddof=1)\n",
        "    return np.mean(excesso) / desv if desv != 0 else np.nan\n",
        "\n",
        "def sortino(x, rf):\n",
        "    excesso = x - rf\n",
        "    downside = np.minimum(excesso, 0)\n",
        "    dr = np.sqrt(np.sum(downside ** 2) / (len(x) - 1)) if len(x) > 1 else np.nan\n",
        "    return np.mean(excesso) / dr if dr != 0 else np.nan\n",
        "\n",
        "def VaR_historico(x, ic=0.95):\n",
        "    return np.quantile(x.dropna(), 1 - ic) if len(x.dropna()) > 0 else np.nan\n",
        "\n",
        "def beta(x, b, rf):\n",
        "    excesso_x = x - rf\n",
        "    excesso_b = b - rf\n",
        "    cov = np.cov(excesso_x, excesso_b, ddof=1)[0, 1]\n",
        "    var = np.var(excesso_b, ddof=1)\n",
        "    return cov / var if var != 0 else np.nan\n",
        "\n",
        "def alfa(x, b, rf):\n",
        "    excesso_x = np.mean(x - rf)\n",
        "    excesso_b = np.mean(b - rf)\n",
        "    beta_val = beta(x, b, rf)\n",
        "    return excesso_x - beta_val * excesso_b if not np.isnan(beta_val) else np.nan\n",
        "\n",
        "# === 5. Cálculo das métricas ===\n",
        "resultados = []\n",
        "\n",
        "for ativo in dados_etfs_alinhados.columns:\n",
        "    x = dados_etfs_alinhados[ativo]\n",
        "\n",
        "    if x.dropna().shape[0] < 30:\n",
        "        continue  # pula ETF com poucos dados\n",
        "\n",
        "    resultados.append({\n",
        "        \"Ativo\": ativo,\n",
        "        \"Retorno médio\": np.mean(x),\n",
        "        \"Volatilidade\": np.std(x, ddof=1),\n",
        "        \"Índice de Sharpe\": sharpe(x, ret_rf),\n",
        "        \"Índice de Sortino\": sortino(x, ret_rf),\n",
        "        \"VaR Histórico\": VaR_historico(x),\n",
        "        \"Beta\": beta(x, ret_bench, ret_rf),\n",
        "        \"Alfa\": alfa(x, ret_bench, ret_rf)\n",
        "    })\n",
        "\n",
        "# === 6. Exportar e exibir ===\n",
        "df_resultados = pd.DataFrame(resultados)\n",
        "df_resultados.to_excel(\"metricas_etfs.xlsx\", index=False)\n",
        "print(df_resultados)\n"
      ],
      "metadata": {
        "colab": {
          "base_uri": "https://localhost:8080/"
        },
        "id": "jzDI3LkRQFCA",
        "outputId": "f3213c58-0f3f-41e7-f1a6-1ec405f5c32b"
      },
      "id": "jzDI3LkRQFCA",
      "execution_count": null,
      "outputs": [
        {
          "output_type": "stream",
          "name": "stdout",
          "text": [
            "        Ativo  Retorno médio  Volatilidade  Índice de Sharpe  \\\n",
            "0   ACWI11.SA       0.000933      0.009826          0.051300   \n",
            "1   ALUG11.SA       0.000544      0.012922          0.008959   \n",
            "2   BBOV11.SA       0.000123      0.009143         -0.033417   \n",
            "3   BOVA11.SA       0.000115      0.009228         -0.034024   \n",
            "4   BOVB11.SA       0.000114      0.009045         -0.034810   \n",
            "5   BOVS11.SA       0.000098      0.009002         -0.036753   \n",
            "6   BOVV11.SA       0.000112      0.009128         -0.034652   \n",
            "7   BOVX11.SA       0.000117      0.009319         -0.033429   \n",
            "8   BRAX11.SA       0.000111      0.008747         -0.036316   \n",
            "9   CMDB11.SA      -0.000023      0.011348         -0.039752   \n",
            "10  DIVO11.SA       0.000259      0.008235         -0.020627   \n",
            "11  FIND11.SA       0.000332      0.011031         -0.008729   \n",
            "12  GENB11.SA       0.001898      0.017535          0.083812   \n",
            "13  GOLD11.SA       0.001899      0.010740          0.136910   \n",
            "14  ISUS11.SA       0.000031      0.010883         -0.036522   \n",
            "15  IVVB11.SA       0.000979      0.011012          0.049938   \n",
            "16  JOGO11.SA       0.002119      0.016966          0.099626   \n",
            "17  MATB11.SA      -0.000478      0.012211         -0.074230   \n",
            "18  NASD11.SA       0.001022      0.014262          0.041583   \n",
            "19  PIBB11.SA       0.000142      0.008904         -0.032191   \n",
            "20  SCVB11.SA      -0.000125      0.014704         -0.037674   \n",
            "21  SMAC11.SA      -0.000163      0.013652         -0.043301   \n",
            "22  SMAL11.SA      -0.000155      0.014021         -0.041584   \n",
            "23  SPXB11.SA       0.000979      0.013178          0.041735   \n",
            "24  SPXI11.SA       0.000975      0.010974          0.049818   \n",
            "25  SVAL11.SA       0.000265      0.017276         -0.009464   \n",
            "26  TECK11.SA       0.001709      0.018591          0.068849   \n",
            "27  TRIG11.SA       0.000075      0.015123         -0.023346   \n",
            "28  USAL11.SA       0.000993      0.011127          0.050672   \n",
            "29  USTK11.SA       0.001012      0.017696          0.032974   \n",
            "30  UTEC11.SA       0.001011      0.016582          0.035141   \n",
            "31  WRLD11.SA       0.000898      0.010918          0.042975   \n",
            "32  XBOV11.SA       0.000094      0.008931         -0.037504   \n",
            "33  XINA11.SA       0.001438      0.019324          0.052217   \n",
            "\n",
            "    Índice de Sortino  VaR Histórico      Beta      Alfa  \n",
            "0            0.075651      -0.013465 -0.008264  0.000502  \n",
            "1            0.012496      -0.018810 -0.037935  0.000103  \n",
            "2           -0.046680      -0.014185  0.962989  0.000016  \n",
            "3           -0.047522      -0.013555  1.013600  0.000024  \n",
            "4           -0.048389      -0.013686  1.001807  0.000020  \n",
            "5           -0.050710      -0.013632  0.996219  0.000002  \n",
            "6           -0.048474      -0.013790  1.008078  0.000020  \n",
            "7           -0.046537      -0.013884  1.020513  0.000029  \n",
            "8           -0.050276      -0.013775  0.941948 -0.000003  \n",
            "9           -0.055916      -0.017610  0.918859 -0.000145  \n",
            "10          -0.028745      -0.013854  0.815525  0.000102  \n",
            "11          -0.012331      -0.017208  1.020721  0.000244  \n",
            "12           0.124381      -0.027223 -0.013311  0.001465  \n",
            "13           0.211444      -0.013304 -0.242789  0.001389  \n",
            "14          -0.050506      -0.016138  1.069701 -0.000040  \n",
            "15           0.071147      -0.015185 -0.078265  0.000524  \n",
            "16           0.156692      -0.020480  0.027652  0.001700  \n",
            "17          -0.102232      -0.019719  0.886804 -0.000611  \n",
            "18           0.061053      -0.022959 -0.019304  0.000587  \n",
            "19          -0.044793      -0.013622  0.978258  0.000040  \n",
            "20          -0.051889      -0.024184  1.347434 -0.000104  \n",
            "21          -0.058800      -0.021347  1.262132 -0.000170  \n",
            "22          -0.057417      -0.022599  1.316190 -0.000144  \n",
            "23           0.060899      -0.017078 -0.129263  0.000507  \n",
            "24           0.071290      -0.014618 -0.074392  0.000522  \n",
            "25          -0.013022      -0.021819  0.067686 -0.000141  \n",
            "26           0.103309      -0.028476  0.000919  0.001280  \n",
            "27          -0.032906      -0.022911  1.287544  0.000077  \n",
            "28           0.073332      -0.015934 -0.028341  0.000555  \n",
            "29           0.047025      -0.028698  0.021041  0.000591  \n",
            "30           0.049964      -0.027020  0.028293  0.000592  \n",
            "31           0.061377      -0.014531 -0.000100  0.000469  \n",
            "32          -0.052471      -0.013481  0.981484 -0.000007  \n",
            "33           0.079879      -0.023842  0.362945  0.001130  \n"
          ]
        }
      ]
    }
  ],
  "metadata": {
    "kernelspec": {
      "display_name": "Python 3 (ipykernel)",
      "language": "python",
      "name": "python3"
    },
    "language_info": {
      "name": "python"
    },
    "colab": {
      "provenance": [],
      "include_colab_link": true
    }
  },
  "nbformat": 4,
  "nbformat_minor": 5
}